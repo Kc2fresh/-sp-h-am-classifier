{
 "cells": [
  {
   "cell_type": "code",
   "execution_count": null,
   "metadata": {},
   "outputs": [],
   "source": [
    "#calling dependencies\n",
    "\n",
    "import sys\n",
    "import nltk\n",
    "import pandas\n",
    "import sklearn\n",
    "import numpy\n",
    "\n",
    "print('Python:{}',format(sys.version))\n",
    "print('NLTK:{}',format(nltk.__version__))\n",
    "print('Pandas:{}',format(pandas.__version__))\n",
    "print('Scikit-learn:{}',format(sklearn.__version__))\n",
    "print('Numpy:{}',format(numpy.__version__))\n",
    "\n",
    "      \n"
   ]
  },
  {
   "cell_type": "markdown",
   "metadata": {},
   "source": [
    "loading the Dataset"
   ]
  },
  {
   "cell_type": "code",
   "execution_count": null,
   "metadata": {},
   "outputs": [],
   "source": [
    "import pandas as pd\n",
    "import numpy as np\n",
    "\n",
    "#load  dataset in workable format\n",
    "\n",
    "df = pd.read_table('SMSSpamCollection',header = None, encoding = 'utf-8')\n",
    "\n",
    "\n"
   ]
  },
  {
   "cell_type": "code",
   "execution_count": null,
   "metadata": {},
   "outputs": [],
   "source": [
    "#basic info about the dataset\n",
    "\n",
    "print(df.info())\n",
    "print(df.head())\n",
    "print(\n",
    ")\n",
    "classes = df[0]\n",
    "print(classes.value_counts())"
   ]
  },
  {
   "cell_type": "code",
   "execution_count": null,
   "metadata": {},
   "outputs": [],
   "source": [
    "\n"
   ]
  },
  {
   "cell_type": "markdown",
   "metadata": {},
   "source": [
    "2. preprocess the data"
   ]
  },
  {
   "cell_type": "markdown",
   "metadata": {},
   "source": [
    "convert class labels to binary values 0=ham, 1= spam"
   ]
  },
  {
   "cell_type": "code",
   "execution_count": null,
   "metadata": {},
   "outputs": [],
   "source": [
    "from sklearn.preprocessing import LabelEncoder\n",
    "encoder = LabelEncoder()\n",
    "Y = encoder.fit_transform(classes)\n",
    "print(classes[:10])\n",
    "print(Y[:10])"
   ]
  },
  {
   "cell_type": "markdown",
   "metadata": {},
   "source": [
    "store sms message data"
   ]
  },
  {
   "cell_type": "code",
   "execution_count": null,
   "metadata": {},
   "outputs": [],
   "source": [
    "sms_messages = df[1]\n",
    "print(sms_messages[:15])"
   ]
  },
  {
   "cell_type": "markdown",
   "metadata": {},
   "source": [
    "use regexp to replace email addresses, url's, phone numbers, other numbers, symbols\n",
    "\n",
    "replace email addresses with 'emailadd'\n"
   ]
  },
  {
   "cell_type": "code",
   "execution_count": null,
   "metadata": {},
   "outputs": [],
   "source": [
    "#ue regexp to replace urls, email addresses and currencies\n",
    "processed = sms_messages.str.replace(r'^,+@[^\\,],*\\,[a-z]{2,}$', 'emilad')  \n",
    "\n",
    "processed = processed.str.replace(r'^http\\://[a-zA-Z0-9\\-\\,]+\\,[a-zA-Z]{2,3}(/\\S*)?$', 'wbadd')\n",
    "\n",
    "processed = processed.str.replace(r'£|\\$', 'cshsgn')\n",
    "\n",
    "processed = processed.str.replace(r'^\\(?[\\d]{3}\\)?[\\s-]?[\\d]{3}[\\s-]?[\\d]{4}$','pnumbr')\n",
    "                                  \n",
    "processed = processed.str.replace(r'\\d+(\\.\\d+)?', 'nber')\n"
   ]
  },
  {
   "cell_type": "code",
   "execution_count": null,
   "metadata": {},
   "outputs": [],
   "source": [
    "#remove punctuation\n",
    "\n",
    "processed = processed.str.replace(r'[^\\w\\d\\s]','')\n",
    "\n",
    "#remove whitespace between terms\n",
    "#processed = processed.str.replace(r'\\s+','')\n",
    "\n",
    "#remove leading and trailing whitespace\n",
    "\n",
    "#processed = processed.str.replace(r'^\\s+|\\s+?$', '')"
   ]
  },
  {
   "cell_type": "code",
   "execution_count": null,
   "metadata": {},
   "outputs": [],
   "source": [
    "#change to lower case\n",
    "processed = processed.str.lower()\n",
    "print(processed)\n"
   ]
  },
  {
   "cell_type": "code",
   "execution_count": null,
   "metadata": {},
   "outputs": [],
   "source": []
  },
  {
   "cell_type": "code",
   "execution_count": null,
   "metadata": {},
   "outputs": [],
   "source": [
    "#remove stopwords from txt\n",
    "#from nltk.corpus import stopwords\n",
    "\n",
    "#stop_words = set(stopwords.words('english'))\n",
    "#print(stop_words)\n",
    "\n",
    "\n",
    "#temp_processed=processed.split(' ')\n",
    "\n",
    "\n",
    "\n",
    "#temp_processed=[token for token in processed if token not in stop_words]\n",
    "#print (temp_processed)\n",
    "\n",
    "\n",
    "#processed = processed.apply(lambda x: ''.join(term for term in x.split() if term not in stop_words))"
   ]
  },
  {
   "cell_type": "code",
   "execution_count": null,
   "metadata": {},
   "outputs": [],
   "source": [
    "#remove word stems using porter stemming\n",
    "\n",
    "\n",
    "#from nltk.stem import PorterStemmer\n",
    "#from nltk import pos_tag\n",
    "\n",
    "#ps = nltk.PorterStemmer()\n",
    "\n",
    "\n",
    "#processed = processed.apply(lambda x: ''.join(ps.stem(term) for term in x.split()))"
   ]
  },
  {
   "cell_type": "code",
   "execution_count": null,
   "metadata": {},
   "outputs": [],
   "source": [
    "print (processed)"
   ]
  },
  {
   "cell_type": "code",
   "execution_count": null,
   "metadata": {},
   "outputs": [],
   "source": []
  },
  {
   "cell_type": "code",
   "execution_count": null,
   "metadata": {},
   "outputs": [],
   "source": [
    "#feature engineering\n",
    "\n",
    "from nltk.tokenize import word_tokenize\n",
    "from nltk.tokenize import sent_tokenize\n",
    "from nltk.probability import FreqDist\n",
    "\n",
    "#creating bag of words\n",
    "\n",
    "all_words = []\n",
    "\n",
    "#for message in processed:\n",
    "   # words = nltk.tokenize.word_tokenize(message)\n",
    "\n",
    "for message in processed:\n",
    "    sentences = sent_tokenize(message)\n",
    "    for words in sentences:\n",
    "        w= word_tokenize(words)\n",
    "        for c in w:\n",
    "            all_words.append(c)\n",
    "    \n",
    "all_words = FreqDist(all_words)\n",
    "\n",
    "    # for word in word_tokenize(sentence):\n",
    "           # fdist[word] += 1\n",
    "            \n",
    "#all_words=nltk.FreqDist(all_words)\n",
    "\n",
    "#words = nltk.tokenize.word_tokenize(processed)\n",
    "#all_words= FreqDist(words)\n",
    "\n",
    "\n"
   ]
  },
  {
   "cell_type": "code",
   "execution_count": null,
   "metadata": {},
   "outputs": [],
   "source": [
    "from nltk.corpus import stopwords\n",
    "\n",
    "stop_words = set(stopwords.words('english'))\n",
    "#print(stop_words)\n",
    "\n",
    "\n",
    "#temp_processed=processed.split(' ')\n",
    "\n",
    "\n",
    "\n",
    "temp_processed=[token for token in all_words if token not in stop_words]\n",
    "\n",
    "#print (temp_processed)\n",
    "temp_processed = FreqDist(temp_processed)\n",
    "print('number of words: {}',format(len(temp_processed)))\n",
    "print('Most common words: {}',format(temp_processed.most_common(3000)))"
   ]
  },
  {
   "cell_type": "code",
   "execution_count": null,
   "metadata": {},
   "outputs": [],
   "source": [
    "\n",
    "print('number of words: {}',format(len(temp_processed)))\n",
    "print('Most common words: {}',format(temp_processed.most_common(3000)))\n",
    "      "
   ]
  },
  {
   "cell_type": "code",
   "execution_count": null,
   "metadata": {},
   "outputs": [],
   "source": [
    "#use the most common features to train\n",
    "word_features = list(all_words.keys())[:1500]"
   ]
  },
  {
   "cell_type": "code",
   "execution_count": null,
   "metadata": {},
   "outputs": [],
   "source": [
    "#define a find features function\n",
    "def find_features(message):\n",
    "    words=word_tokenize(message)\n",
    "    features = {}\n",
    "    for word in word_features:\n",
    "        features[word] = (word in words)\n",
    "        \n",
    "    return features\n",
    "#lets see results\n",
    "\n",
    "features = find_features(processed[0])\n",
    "for key,value in features.items():\n",
    "    if value == True:\n",
    "        print (key)"
   ]
  },
  {
   "cell_type": "code",
   "execution_count": null,
   "metadata": {},
   "outputs": [],
   "source": [
    "#find features for all messages\n",
    "messages = list(zip(processed, Y))\n",
    "\n",
    "\n",
    "#define seed for reproducibility\n",
    "seed=1\n",
    "np.random.seed = seed\n",
    "np.random.shuffle(messages)\n",
    "\n",
    "featuresets = [(find_features(text),label) for (text, label) in messages]"
   ]
  },
  {
   "cell_type": "code",
   "execution_count": null,
   "metadata": {},
   "outputs": [],
   "source": [
    "#splitting the featuresets into training and testing\n",
    "from sklearn import model_selection\n",
    "\n",
    "#split the data into training and testing\n",
    "training, testing = model_selection.train_test_split(featuresets, test_size =0.20, random_state=seed)\n"
   ]
  },
  {
   "cell_type": "code",
   "execution_count": null,
   "metadata": {},
   "outputs": [],
   "source": [
    "print(len(training))\n",
    "print(len(testing))"
   ]
  },
  {
   "cell_type": "markdown",
   "metadata": {},
   "source": [
    "Scikit learn Classifiers with NLTK"
   ]
  },
  {
   "cell_type": "code",
   "execution_count": null,
   "metadata": {},
   "outputs": [],
   "source": [
    "#we will import some algorithms from sklearn to use as well as some performance metrics\n",
    "from nltk.classify.scikitlearn import SklearnClassifier\n",
    "from sklearn.svm import SVC\n",
    "\n",
    "model= SklearnClassifier(SVC(kernel = 'linear'))\n",
    "\n",
    "\n",
    "#train the model\n",
    "model.train(training)\n",
    "\n",
    "#test on testing dataset\n",
    "accuracy = nltk.classify.accuracy(model, testing)*100\n",
    "\n",
    "print(\"SVC accuracy: {}\". format(accuracy))"
   ]
  },
  {
   "cell_type": "code",
   "execution_count": null,
   "metadata": {},
   "outputs": [],
   "source": [
    "\n",
    "from sklearn.linear_model import LogisticRegression, SGDClassifier\n",
    "from sklearn.neighbors import KNeighborsClassifier\n",
    "from sklearn.naive_bayes import MultinomialNB\n",
    "from sklearn.svm import SVC\n",
    "from sklearn.ensemble import RandomForestClassifier\n",
    "from sklearn.tree import DecisionTreeClassifier\n",
    "from sklearn.metrics import classification_report, accuracy_score, confusion_matrix\n",
    "\n",
    "#define models to train\n",
    "names = [\"K Nearest Neighbors\", \"Decision Tree\", \"Random Forest\", \"Logistic Regression\", \n",
    "         \"SGD Classifier\", \"Naive Bayes\", \"SVM Linear\"]\n",
    "\n",
    "import warnings\n",
    "warnings.filterwarnings(\"ignore\")\n",
    "\n",
    "classifiers= [\n",
    "    DecisionTreeClassifier(),\n",
    "    KNeighborsClassifier(),\n",
    "    LogisticRegression(),\n",
    "    RandomForestClassifier(),\n",
    "    MultinomialNB(),\n",
    "    SGDClassifier(max_iter = 100),\n",
    "    SVC(kernel = 'linear')\n",
    "]\n",
    "\n",
    "models = list(zip(names, classifiers))\n",
    "\n",
    "for name, model in models:\n",
    "    nltk_model =SklearnClassifier(model)\n",
    "    nltk_model.train(training)\n",
    "    accuracy = nltk.classify.accuracy(nltk_model, testing)*100\n",
    "    print(\"{} Accuracy: {}\".format(name, accuracy))"
   ]
  },
  {
   "cell_type": "code",
   "execution_count": null,
   "metadata": {},
   "outputs": [],
   "source": [
    "#ensemble voting classifier\n",
    "from sklearn.ensemble import VotingClassifier\n",
    "\n",
    "names = [\"K Nearest Neighbors\", \"Decision Tree\", \"Random Forest\", \"Logistic Regression\", \n",
    "         \"SGD Classifier\", \"Naive Bayes\", \"SVM Linear\"]\n",
    "\n",
    "classifiers= [\n",
    "    KNeighborsClassifier(),\n",
    "    DecisionTreeClassifier(),\n",
    "    RandomForestClassifier(),\n",
    "    LogisticRegression(),\n",
    "    SGDClassifier(max_iter = 100),\n",
    "    MultinomialNB(),\n",
    "    SVC(kernel = 'linear')\n",
    "]\n",
    "\n",
    "\n",
    "models = list(zip(names, classifiers))\n",
    "\n",
    "nltk_ensemble = SklearnClassifier(VotingClassifier(estimators = models,voting ='hard', n_jobs = -1))\n",
    "nltk_ensemble.train(training)\n",
    "accuracy = nltk.classify. accuracy(nltk_model, testing)*100\n",
    "print(\"Voting Classifier: Accuracy : {}\".format(accuracy))\n",
    "\n"
   ]
  },
  {
   "cell_type": "code",
   "execution_count": null,
   "metadata": {},
   "outputs": [],
   "source": [
    "#make class label for testing set\n",
    "testing_features, labels = list(zip(*testing))\n",
    "\n",
    "prediction = nltk_ensemble.classify_many(testing_features)\n"
   ]
  },
  {
   "cell_type": "code",
   "execution_count": null,
   "metadata": {},
   "outputs": [],
   "source": [
    "#print a confusion matrix and classification report\n",
    "print(classification_report(labels, prediction))\n",
    "\n",
    "pd.DataFrame(\n",
    "    confusion_matrix(labels, prediction),\n",
    "    index = [['actual', 'actual'], ['ham', 'spam']],\n",
    "    columns = [['predicted', 'predicted'], ['ham', 'spam']])"
   ]
  },
  {
   "cell_type": "code",
   "execution_count": null,
   "metadata": {},
   "outputs": [],
   "source": []
  }
 ],
 "metadata": {
  "kernelspec": {
   "display_name": "Python 3",
   "language": "python",
   "name": "python3"
  },
  "language_info": {
   "codemirror_mode": {
    "name": "ipython",
    "version": 3
   },
   "file_extension": ".py",
   "mimetype": "text/x-python",
   "name": "python",
   "nbconvert_exporter": "python",
   "pygments_lexer": "ipython3",
   "version": "3.7.4"
  }
 },
 "nbformat": 4,
 "nbformat_minor": 2
}
