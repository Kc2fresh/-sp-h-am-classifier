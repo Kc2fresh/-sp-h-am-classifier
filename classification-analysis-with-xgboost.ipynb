{
 "cells": [
  {
   "cell_type": "markdown",
   "id": "75b03ead",
   "metadata": {
    "papermill": {
     "duration": 0.011157,
     "end_time": "2022-09-20T22:09:09.762281",
     "exception": false,
     "start_time": "2022-09-20T22:09:09.751124",
     "status": "completed"
    },
    "tags": []
   },
   "source": [
    "# <p style=\"background-color:coral;font-family:newtimeroman;font-size:150%;color:white;text-align:center;border-radius:20px 20px;\"><b>Classification Analysis with XGBoost</b></p>\n",
    "![](https://img.freepik.com/free-vector/dollars-illustration-set_74855-4404.jpg?t=st=1657689230~exp=1657689830~hmac=87d1560ac28551580c64ab1b442f2e2cc0e27bfd7fbf3380d86ba23c11fd9de8&w=1060)"
   ]
  },
  {
   "cell_type": "markdown",
   "id": "58b528e2",
   "metadata": {
    "papermill": {
     "duration": 0.009391,
     "end_time": "2022-09-20T22:09:09.781561",
     "exception": false,
     "start_time": "2022-09-20T22:09:09.772170",
     "status": "completed"
    },
    "tags": []
   },
   "source": [
    "<b> Hi guys, welcome to </b>[Tirendaz Academy](https://youtube.com/c/tirendazacademy)😀\n",
    "\n",
    "In this notebook, I'm going to talk about classification with XGBoost.\n",
    "\n",
    "<b>Table of contents:</b>\n",
    "<ul>\n",
    "<li><a href=\"#xgboost\">What is XGBoost?</a></li>\n",
    "<li><a href=\"#load\">Loading the dataset</a></li>  \n",
    "<li><a href=\"#understanding\">Understanding the dataset</a></li>\n",
    "<li><a href=\"#preprocessing\">Data preprocessing</a></li>\n",
    "<li><a href=\"#xgboost_model\">The XGBoost model</a></li>\n",
    "<li><a href=\"#regression\">Logistic Regression vs XGBoost</a></li>\n",
    "<li><a href=\"#conclusion\">Conclusion</a></li>\n",
    "</ul>\n",
    "\n",
    "Happy learning 🐱‍🏍 "
   ]
  },
  {
   "cell_type": "markdown",
   "id": "537a53f6",
   "metadata": {
    "papermill": {
     "duration": 0.009359,
     "end_time": "2022-09-20T22:09:09.800626",
     "exception": false,
     "start_time": "2022-09-20T22:09:09.791267",
     "status": "completed"
    },
    "tags": []
   },
   "source": [
    "<a id='#xgboost'></a>\n",
    "# <p style=\"background-color:coral;font-family:newtimeroman;font-size:150%;color:white;text-align:center;border-radius:20px 20px;\"><b>What is XGBoost?</b></p>"
   ]
  },
  {
   "cell_type": "markdown",
   "id": "0b658694",
   "metadata": {
    "papermill": {
     "duration": 0.009471,
     "end_time": "2022-09-20T22:09:09.819752",
     "exception": false,
     "start_time": "2022-09-20T22:09:09.810281",
     "status": "completed"
    },
    "tags": []
   },
   "source": [
    "[XGBoost](https://xgboost.readthedocs.io/en/stable/) is an optimized distributed gradient boosting library designed to be highly efficient, flexible and portable. XGBoost is short for Extreme Gradient Boosting. You can use the XGBoost to implement gradient boosting. It provides a parallel tree boosting that solves many data science problems in a fast and accurate way. "
   ]
  },
  {
   "cell_type": "markdown",
   "id": "748a9cf6",
   "metadata": {
    "papermill": {
     "duration": 0.010123,
     "end_time": "2022-09-20T22:09:09.839492",
     "exception": false,
     "start_time": "2022-09-20T22:09:09.829369",
     "status": "completed"
    },
    "tags": []
   },
   "source": [
    "<a id='load'></a>\n",
    "# <p style=\"background-color:coral;font-family:newtimeroman;font-size:150%;color:white;text-align:center;border-radius:20px 20px;\"><b>Loading The Dataset</b></p>\n",
    "The dataset named Adult Census Income is present in Kaggle and [UCI repository](https://archive.ics.uci.edu/ml/datasets/adult). This data was extracted from the 1994 Census bureau database by Ronny Kohavi and Barry Becker (Data Mining and Visualization, Silicon Graphics). The prediction task is to specify whether a person makes over \\$50K a year or not. \n",
    "\n",
    "Let's load this dataset with the `read_csv` method in Pandas"
   ]
  },
  {
   "cell_type": "code",
   "execution_count": 1,
   "id": "81b69e18",
   "metadata": {
    "execution": {
     "iopub.execute_input": "2022-09-20T22:09:09.861976Z",
     "iopub.status.busy": "2022-09-20T22:09:09.860960Z",
     "iopub.status.idle": "2022-09-20T22:09:10.032259Z",
     "shell.execute_reply": "2022-09-20T22:09:10.030865Z"
    },
    "papermill": {
     "duration": 0.185703,
     "end_time": "2022-09-20T22:09:10.034941",
     "exception": false,
     "start_time": "2022-09-20T22:09:09.849238",
     "status": "completed"
    },
    "tags": []
   },
   "outputs": [
    {
     "data": {
      "text/html": [
       "<div>\n",
       "<style scoped>\n",
       "    .dataframe tbody tr th:only-of-type {\n",
       "        vertical-align: middle;\n",
       "    }\n",
       "\n",
       "    .dataframe tbody tr th {\n",
       "        vertical-align: top;\n",
       "    }\n",
       "\n",
       "    .dataframe thead th {\n",
       "        text-align: right;\n",
       "    }\n",
       "</style>\n",
       "<table border=\"1\" class=\"dataframe\">\n",
       "  <thead>\n",
       "    <tr style=\"text-align: right;\">\n",
       "      <th></th>\n",
       "      <th>age</th>\n",
       "      <th>workclass</th>\n",
       "      <th>fnlwgt</th>\n",
       "      <th>education</th>\n",
       "      <th>education.num</th>\n",
       "      <th>marital.status</th>\n",
       "      <th>occupation</th>\n",
       "      <th>relationship</th>\n",
       "      <th>race</th>\n",
       "      <th>sex</th>\n",
       "      <th>capital.gain</th>\n",
       "      <th>capital.loss</th>\n",
       "      <th>hours.per.week</th>\n",
       "      <th>native.country</th>\n",
       "      <th>income</th>\n",
       "    </tr>\n",
       "  </thead>\n",
       "  <tbody>\n",
       "    <tr>\n",
       "      <th>0</th>\n",
       "      <td>90</td>\n",
       "      <td>?</td>\n",
       "      <td>77053</td>\n",
       "      <td>HS-grad</td>\n",
       "      <td>9</td>\n",
       "      <td>Widowed</td>\n",
       "      <td>?</td>\n",
       "      <td>Not-in-family</td>\n",
       "      <td>White</td>\n",
       "      <td>Female</td>\n",
       "      <td>0</td>\n",
       "      <td>4356</td>\n",
       "      <td>40</td>\n",
       "      <td>United-States</td>\n",
       "      <td>&lt;=50K</td>\n",
       "    </tr>\n",
       "    <tr>\n",
       "      <th>1</th>\n",
       "      <td>82</td>\n",
       "      <td>Private</td>\n",
       "      <td>132870</td>\n",
       "      <td>HS-grad</td>\n",
       "      <td>9</td>\n",
       "      <td>Widowed</td>\n",
       "      <td>Exec-managerial</td>\n",
       "      <td>Not-in-family</td>\n",
       "      <td>White</td>\n",
       "      <td>Female</td>\n",
       "      <td>0</td>\n",
       "      <td>4356</td>\n",
       "      <td>18</td>\n",
       "      <td>United-States</td>\n",
       "      <td>&lt;=50K</td>\n",
       "    </tr>\n",
       "    <tr>\n",
       "      <th>2</th>\n",
       "      <td>66</td>\n",
       "      <td>?</td>\n",
       "      <td>186061</td>\n",
       "      <td>Some-college</td>\n",
       "      <td>10</td>\n",
       "      <td>Widowed</td>\n",
       "      <td>?</td>\n",
       "      <td>Unmarried</td>\n",
       "      <td>Black</td>\n",
       "      <td>Female</td>\n",
       "      <td>0</td>\n",
       "      <td>4356</td>\n",
       "      <td>40</td>\n",
       "      <td>United-States</td>\n",
       "      <td>&lt;=50K</td>\n",
       "    </tr>\n",
       "    <tr>\n",
       "      <th>3</th>\n",
       "      <td>54</td>\n",
       "      <td>Private</td>\n",
       "      <td>140359</td>\n",
       "      <td>7th-8th</td>\n",
       "      <td>4</td>\n",
       "      <td>Divorced</td>\n",
       "      <td>Machine-op-inspct</td>\n",
       "      <td>Unmarried</td>\n",
       "      <td>White</td>\n",
       "      <td>Female</td>\n",
       "      <td>0</td>\n",
       "      <td>3900</td>\n",
       "      <td>40</td>\n",
       "      <td>United-States</td>\n",
       "      <td>&lt;=50K</td>\n",
       "    </tr>\n",
       "    <tr>\n",
       "      <th>4</th>\n",
       "      <td>41</td>\n",
       "      <td>Private</td>\n",
       "      <td>264663</td>\n",
       "      <td>Some-college</td>\n",
       "      <td>10</td>\n",
       "      <td>Separated</td>\n",
       "      <td>Prof-specialty</td>\n",
       "      <td>Own-child</td>\n",
       "      <td>White</td>\n",
       "      <td>Female</td>\n",
       "      <td>0</td>\n",
       "      <td>3900</td>\n",
       "      <td>40</td>\n",
       "      <td>United-States</td>\n",
       "      <td>&lt;=50K</td>\n",
       "    </tr>\n",
       "  </tbody>\n",
       "</table>\n",
       "</div>"
      ],
      "text/plain": [
       "   age workclass  fnlwgt     education  education.num marital.status  \\\n",
       "0   90         ?   77053       HS-grad              9        Widowed   \n",
       "1   82   Private  132870       HS-grad              9        Widowed   \n",
       "2   66         ?  186061  Some-college             10        Widowed   \n",
       "3   54   Private  140359       7th-8th              4       Divorced   \n",
       "4   41   Private  264663  Some-college             10      Separated   \n",
       "\n",
       "          occupation   relationship   race     sex  capital.gain  \\\n",
       "0                  ?  Not-in-family  White  Female             0   \n",
       "1    Exec-managerial  Not-in-family  White  Female             0   \n",
       "2                  ?      Unmarried  Black  Female             0   \n",
       "3  Machine-op-inspct      Unmarried  White  Female             0   \n",
       "4     Prof-specialty      Own-child  White  Female             0   \n",
       "\n",
       "   capital.loss  hours.per.week native.country income  \n",
       "0          4356              40  United-States  <=50K  \n",
       "1          4356              18  United-States  <=50K  \n",
       "2          4356              40  United-States  <=50K  \n",
       "3          3900              40  United-States  <=50K  \n",
       "4          3900              40  United-States  <=50K  "
      ]
     },
     "execution_count": 1,
     "metadata": {},
     "output_type": "execute_result"
    }
   ],
   "source": [
    "import pandas as pd\n",
    "df = pd.read_csv(\"../input/adult-census-income/adult.csv\")\n",
    "df.head()"
   ]
  },
  {
   "cell_type": "markdown",
   "id": "fcc3a60f",
   "metadata": {
    "papermill": {
     "duration": 0.00983,
     "end_time": "2022-09-20T22:09:10.055100",
     "exception": false,
     "start_time": "2022-09-20T22:09:10.045270",
     "status": "completed"
    },
    "tags": []
   },
   "source": [
    "<a id='understanding'></a>\n",
    "# <p style=\"background-color:coral;font-family:newtimeroman;font-size:150%;color:white;text-align:center;border-radius:20px 20px;\"><b>Understanding The Dataset</b></p>\n",
    "The understanding stage is where we attempt to explore the data. Let's take a look at the type of columns with the `dtypes` attribute."
   ]
  },
  {
   "cell_type": "code",
   "execution_count": 2,
   "id": "63d30715",
   "metadata": {
    "execution": {
     "iopub.execute_input": "2022-09-20T22:09:10.077600Z",
     "iopub.status.busy": "2022-09-20T22:09:10.077216Z",
     "iopub.status.idle": "2022-09-20T22:09:10.085901Z",
     "shell.execute_reply": "2022-09-20T22:09:10.084636Z"
    },
    "papermill": {
     "duration": 0.02287,
     "end_time": "2022-09-20T22:09:10.088325",
     "exception": false,
     "start_time": "2022-09-20T22:09:10.065455",
     "status": "completed"
    },
    "tags": []
   },
   "outputs": [
    {
     "data": {
      "text/plain": [
       "age                int64\n",
       "workclass         object\n",
       "fnlwgt             int64\n",
       "education         object\n",
       "education.num      int64\n",
       "marital.status    object\n",
       "occupation        object\n",
       "relationship      object\n",
       "race              object\n",
       "sex               object\n",
       "capital.gain       int64\n",
       "capital.loss       int64\n",
       "hours.per.week     int64\n",
       "native.country    object\n",
       "income            object\n",
       "dtype: object"
      ]
     },
     "execution_count": 2,
     "metadata": {},
     "output_type": "execute_result"
    }
   ],
   "source": [
    "df.dtypes"
   ]
  },
  {
   "cell_type": "markdown",
   "id": "b74984a6",
   "metadata": {
    "papermill": {
     "duration": 0.010022,
     "end_time": "2022-09-20T22:09:10.109264",
     "exception": false,
     "start_time": "2022-09-20T22:09:10.099242",
     "status": "completed"
    },
    "tags": []
   },
   "source": [
    "The dataset contained both numerical and categorical values. Let me look at missing data with the `isnull` method."
   ]
  },
  {
   "cell_type": "code",
   "execution_count": 3,
   "id": "d094ea77",
   "metadata": {
    "execution": {
     "iopub.execute_input": "2022-09-20T22:09:10.131576Z",
     "iopub.status.busy": "2022-09-20T22:09:10.131182Z",
     "iopub.status.idle": "2022-09-20T22:09:10.156149Z",
     "shell.execute_reply": "2022-09-20T22:09:10.155154Z"
    },
    "papermill": {
     "duration": 0.039131,
     "end_time": "2022-09-20T22:09:10.158595",
     "exception": false,
     "start_time": "2022-09-20T22:09:10.119464",
     "status": "completed"
    },
    "tags": []
   },
   "outputs": [
    {
     "data": {
      "text/plain": [
       "age               0\n",
       "workclass         0\n",
       "fnlwgt            0\n",
       "education         0\n",
       "education.num     0\n",
       "marital.status    0\n",
       "occupation        0\n",
       "relationship      0\n",
       "race              0\n",
       "sex               0\n",
       "capital.gain      0\n",
       "capital.loss      0\n",
       "hours.per.week    0\n",
       "native.country    0\n",
       "income            0\n",
       "dtype: int64"
      ]
     },
     "execution_count": 3,
     "metadata": {},
     "output_type": "execute_result"
    }
   ],
   "source": [
    "df.isnull().sum()"
   ]
  },
  {
   "cell_type": "markdown",
   "id": "634727cf",
   "metadata": {
    "papermill": {
     "duration": 0.010021,
     "end_time": "2022-09-20T22:09:10.179034",
     "exception": false,
     "start_time": "2022-09-20T22:09:10.169013",
     "status": "completed"
    },
    "tags": []
   },
   "source": [
    "Cool. There is no missing data in the dataset. I'll look at the general information in the dataset with the `info` method."
   ]
  },
  {
   "cell_type": "code",
   "execution_count": 4,
   "id": "fb59d73b",
   "metadata": {
    "execution": {
     "iopub.execute_input": "2022-09-20T22:09:10.201738Z",
     "iopub.status.busy": "2022-09-20T22:09:10.201071Z",
     "iopub.status.idle": "2022-09-20T22:09:10.242276Z",
     "shell.execute_reply": "2022-09-20T22:09:10.240531Z"
    },
    "papermill": {
     "duration": 0.056742,
     "end_time": "2022-09-20T22:09:10.246114",
     "exception": false,
     "start_time": "2022-09-20T22:09:10.189372",
     "status": "completed"
    },
    "tags": []
   },
   "outputs": [
    {
     "name": "stdout",
     "output_type": "stream",
     "text": [
      "<class 'pandas.core.frame.DataFrame'>\n",
      "RangeIndex: 32561 entries, 0 to 32560\n",
      "Data columns (total 15 columns):\n",
      " #   Column          Non-Null Count  Dtype \n",
      "---  ------          --------------  ----- \n",
      " 0   age             32561 non-null  int64 \n",
      " 1   workclass       32561 non-null  object\n",
      " 2   fnlwgt          32561 non-null  int64 \n",
      " 3   education       32561 non-null  object\n",
      " 4   education.num   32561 non-null  int64 \n",
      " 5   marital.status  32561 non-null  object\n",
      " 6   occupation      32561 non-null  object\n",
      " 7   relationship    32561 non-null  object\n",
      " 8   race            32561 non-null  object\n",
      " 9   sex             32561 non-null  object\n",
      " 10  capital.gain    32561 non-null  int64 \n",
      " 11  capital.loss    32561 non-null  int64 \n",
      " 12  hours.per.week  32561 non-null  int64 \n",
      " 13  native.country  32561 non-null  object\n",
      " 14  income          32561 non-null  object\n",
      "dtypes: int64(6), object(9)\n",
      "memory usage: 3.7+ MB\n"
     ]
    }
   ],
   "source": [
    "df.info()"
   ]
  },
  {
   "cell_type": "markdown",
   "id": "f0dc6210",
   "metadata": {
    "papermill": {
     "duration": 0.010084,
     "end_time": "2022-09-20T22:09:10.267659",
     "exception": false,
     "start_time": "2022-09-20T22:09:10.257575",
     "status": "completed"
    },
    "tags": []
   },
   "source": [
    "As you can see, there are 32561 rows and 15 columns in the dataset."
   ]
  },
  {
   "cell_type": "markdown",
   "id": "d9f3f6b7",
   "metadata": {
    "papermill": {
     "duration": 0.010047,
     "end_time": "2022-09-20T22:09:10.288219",
     "exception": false,
     "start_time": "2022-09-20T22:09:10.278172",
     "status": "completed"
    },
    "tags": []
   },
   "source": [
    "<a id='preprocessing'></a>\n",
    "# <p style=\"background-color:coral;font-family:newtimeroman;font-size:150%;color:white;text-align:center;border-radius:20px 20px;\"><b>Data Preprocessing</b></p>"
   ]
  },
  {
   "cell_type": "markdown",
   "id": "a5f70558",
   "metadata": {
    "papermill": {
     "duration": 0.010268,
     "end_time": "2022-09-20T22:09:10.308842",
     "exception": false,
     "start_time": "2022-09-20T22:09:10.298574",
     "status": "completed"
    },
    "tags": []
   },
   "source": [
    "Here the education_num column is a numerical conversion of 'education'. As the information is the same, we can delete the education column."
   ]
  },
  {
   "cell_type": "code",
   "execution_count": 5,
   "id": "82bdab74",
   "metadata": {
    "execution": {
     "iopub.execute_input": "2022-09-20T22:09:10.332284Z",
     "iopub.status.busy": "2022-09-20T22:09:10.330888Z",
     "iopub.status.idle": "2022-09-20T22:09:10.341883Z",
     "shell.execute_reply": "2022-09-20T22:09:10.340546Z"
    },
    "papermill": {
     "duration": 0.025553,
     "end_time": "2022-09-20T22:09:10.344839",
     "exception": false,
     "start_time": "2022-09-20T22:09:10.319286",
     "status": "completed"
    },
    "tags": []
   },
   "outputs": [],
   "source": [
    "df = df.drop([\"education\"], axis=1)"
   ]
  },
  {
   "cell_type": "markdown",
   "id": "10fb9e14",
   "metadata": {
    "papermill": {
     "duration": 0.010534,
     "end_time": "2022-09-20T22:09:10.366173",
     "exception": false,
     "start_time": "2022-09-20T22:09:10.355639",
     "status": "completed"
    },
    "tags": []
   },
   "source": [
    "Let's convert non-numerical columns into numerical columns with the `get_dummies` method in Pandas."
   ]
  },
  {
   "cell_type": "code",
   "execution_count": 6,
   "id": "fe30d799",
   "metadata": {
    "execution": {
     "iopub.execute_input": "2022-09-20T22:09:10.389606Z",
     "iopub.status.busy": "2022-09-20T22:09:10.389185Z",
     "iopub.status.idle": "2022-09-20T22:09:10.465266Z",
     "shell.execute_reply": "2022-09-20T22:09:10.464126Z"
    },
    "papermill": {
     "duration": 0.090792,
     "end_time": "2022-09-20T22:09:10.467684",
     "exception": false,
     "start_time": "2022-09-20T22:09:10.376892",
     "status": "completed"
    },
    "tags": []
   },
   "outputs": [
    {
     "data": {
      "text/html": [
       "<div>\n",
       "<style scoped>\n",
       "    .dataframe tbody tr th:only-of-type {\n",
       "        vertical-align: middle;\n",
       "    }\n",
       "\n",
       "    .dataframe tbody tr th {\n",
       "        vertical-align: top;\n",
       "    }\n",
       "\n",
       "    .dataframe thead th {\n",
       "        text-align: right;\n",
       "    }\n",
       "</style>\n",
       "<table border=\"1\" class=\"dataframe\">\n",
       "  <thead>\n",
       "    <tr style=\"text-align: right;\">\n",
       "      <th></th>\n",
       "      <th>age</th>\n",
       "      <th>fnlwgt</th>\n",
       "      <th>education.num</th>\n",
       "      <th>capital.gain</th>\n",
       "      <th>capital.loss</th>\n",
       "      <th>hours.per.week</th>\n",
       "      <th>workclass_?</th>\n",
       "      <th>workclass_Federal-gov</th>\n",
       "      <th>workclass_Local-gov</th>\n",
       "      <th>workclass_Never-worked</th>\n",
       "      <th>...</th>\n",
       "      <th>native.country_Scotland</th>\n",
       "      <th>native.country_South</th>\n",
       "      <th>native.country_Taiwan</th>\n",
       "      <th>native.country_Thailand</th>\n",
       "      <th>native.country_Trinadad&amp;Tobago</th>\n",
       "      <th>native.country_United-States</th>\n",
       "      <th>native.country_Vietnam</th>\n",
       "      <th>native.country_Yugoslavia</th>\n",
       "      <th>income_&lt;=50K</th>\n",
       "      <th>income_&gt;50K</th>\n",
       "    </tr>\n",
       "  </thead>\n",
       "  <tbody>\n",
       "    <tr>\n",
       "      <th>0</th>\n",
       "      <td>90</td>\n",
       "      <td>77053</td>\n",
       "      <td>9</td>\n",
       "      <td>0</td>\n",
       "      <td>4356</td>\n",
       "      <td>40</td>\n",
       "      <td>1</td>\n",
       "      <td>0</td>\n",
       "      <td>0</td>\n",
       "      <td>0</td>\n",
       "      <td>...</td>\n",
       "      <td>0</td>\n",
       "      <td>0</td>\n",
       "      <td>0</td>\n",
       "      <td>0</td>\n",
       "      <td>0</td>\n",
       "      <td>1</td>\n",
       "      <td>0</td>\n",
       "      <td>0</td>\n",
       "      <td>1</td>\n",
       "      <td>0</td>\n",
       "    </tr>\n",
       "    <tr>\n",
       "      <th>1</th>\n",
       "      <td>82</td>\n",
       "      <td>132870</td>\n",
       "      <td>9</td>\n",
       "      <td>0</td>\n",
       "      <td>4356</td>\n",
       "      <td>18</td>\n",
       "      <td>0</td>\n",
       "      <td>0</td>\n",
       "      <td>0</td>\n",
       "      <td>0</td>\n",
       "      <td>...</td>\n",
       "      <td>0</td>\n",
       "      <td>0</td>\n",
       "      <td>0</td>\n",
       "      <td>0</td>\n",
       "      <td>0</td>\n",
       "      <td>1</td>\n",
       "      <td>0</td>\n",
       "      <td>0</td>\n",
       "      <td>1</td>\n",
       "      <td>0</td>\n",
       "    </tr>\n",
       "    <tr>\n",
       "      <th>2</th>\n",
       "      <td>66</td>\n",
       "      <td>186061</td>\n",
       "      <td>10</td>\n",
       "      <td>0</td>\n",
       "      <td>4356</td>\n",
       "      <td>40</td>\n",
       "      <td>1</td>\n",
       "      <td>0</td>\n",
       "      <td>0</td>\n",
       "      <td>0</td>\n",
       "      <td>...</td>\n",
       "      <td>0</td>\n",
       "      <td>0</td>\n",
       "      <td>0</td>\n",
       "      <td>0</td>\n",
       "      <td>0</td>\n",
       "      <td>1</td>\n",
       "      <td>0</td>\n",
       "      <td>0</td>\n",
       "      <td>1</td>\n",
       "      <td>0</td>\n",
       "    </tr>\n",
       "    <tr>\n",
       "      <th>3</th>\n",
       "      <td>54</td>\n",
       "      <td>140359</td>\n",
       "      <td>4</td>\n",
       "      <td>0</td>\n",
       "      <td>3900</td>\n",
       "      <td>40</td>\n",
       "      <td>0</td>\n",
       "      <td>0</td>\n",
       "      <td>0</td>\n",
       "      <td>0</td>\n",
       "      <td>...</td>\n",
       "      <td>0</td>\n",
       "      <td>0</td>\n",
       "      <td>0</td>\n",
       "      <td>0</td>\n",
       "      <td>0</td>\n",
       "      <td>1</td>\n",
       "      <td>0</td>\n",
       "      <td>0</td>\n",
       "      <td>1</td>\n",
       "      <td>0</td>\n",
       "    </tr>\n",
       "    <tr>\n",
       "      <th>4</th>\n",
       "      <td>41</td>\n",
       "      <td>264663</td>\n",
       "      <td>10</td>\n",
       "      <td>0</td>\n",
       "      <td>3900</td>\n",
       "      <td>40</td>\n",
       "      <td>0</td>\n",
       "      <td>0</td>\n",
       "      <td>0</td>\n",
       "      <td>0</td>\n",
       "      <td>...</td>\n",
       "      <td>0</td>\n",
       "      <td>0</td>\n",
       "      <td>0</td>\n",
       "      <td>0</td>\n",
       "      <td>0</td>\n",
       "      <td>1</td>\n",
       "      <td>0</td>\n",
       "      <td>0</td>\n",
       "      <td>1</td>\n",
       "      <td>0</td>\n",
       "    </tr>\n",
       "  </tbody>\n",
       "</table>\n",
       "<p>5 rows × 94 columns</p>\n",
       "</div>"
      ],
      "text/plain": [
       "   age  fnlwgt  education.num  capital.gain  capital.loss  hours.per.week  \\\n",
       "0   90   77053              9             0          4356              40   \n",
       "1   82  132870              9             0          4356              18   \n",
       "2   66  186061             10             0          4356              40   \n",
       "3   54  140359              4             0          3900              40   \n",
       "4   41  264663             10             0          3900              40   \n",
       "\n",
       "   workclass_?  workclass_Federal-gov  workclass_Local-gov  \\\n",
       "0            1                      0                    0   \n",
       "1            0                      0                    0   \n",
       "2            1                      0                    0   \n",
       "3            0                      0                    0   \n",
       "4            0                      0                    0   \n",
       "\n",
       "   workclass_Never-worked  ...  native.country_Scotland  native.country_South  \\\n",
       "0                       0  ...                        0                     0   \n",
       "1                       0  ...                        0                     0   \n",
       "2                       0  ...                        0                     0   \n",
       "3                       0  ...                        0                     0   \n",
       "4                       0  ...                        0                     0   \n",
       "\n",
       "   native.country_Taiwan  native.country_Thailand  \\\n",
       "0                      0                        0   \n",
       "1                      0                        0   \n",
       "2                      0                        0   \n",
       "3                      0                        0   \n",
       "4                      0                        0   \n",
       "\n",
       "   native.country_Trinadad&Tobago  native.country_United-States  \\\n",
       "0                               0                             1   \n",
       "1                               0                             1   \n",
       "2                               0                             1   \n",
       "3                               0                             1   \n",
       "4                               0                             1   \n",
       "\n",
       "   native.country_Vietnam  native.country_Yugoslavia  income_<=50K  \\\n",
       "0                       0                          0             1   \n",
       "1                       0                          0             1   \n",
       "2                       0                          0             1   \n",
       "3                       0                          0             1   \n",
       "4                       0                          0             1   \n",
       "\n",
       "   income_>50K  \n",
       "0            0  \n",
       "1            0  \n",
       "2            0  \n",
       "3            0  \n",
       "4            0  \n",
       "\n",
       "[5 rows x 94 columns]"
      ]
     },
     "execution_count": 6,
     "metadata": {},
     "output_type": "execute_result"
    }
   ],
   "source": [
    "df = pd.get_dummies(df)\n",
    "df.head()"
   ]
  },
  {
   "cell_type": "markdown",
   "id": "52e74076",
   "metadata": {
    "papermill": {
     "duration": 0.011826,
     "end_time": "2022-09-20T22:09:10.490571",
     "exception": false,
     "start_time": "2022-09-20T22:09:10.478745",
     "status": "completed"
    },
    "tags": []
   },
   "source": [
    "As you can see, the categorical values were converted into numerical values. 1 indicates presence and 0 indicates absence. Let's take a look at the columns of dataset with the `columns` attribute."
   ]
  },
  {
   "cell_type": "code",
   "execution_count": 7,
   "id": "ae26cff8",
   "metadata": {
    "execution": {
     "iopub.execute_input": "2022-09-20T22:09:10.517218Z",
     "iopub.status.busy": "2022-09-20T22:09:10.516778Z",
     "iopub.status.idle": "2022-09-20T22:09:10.524543Z",
     "shell.execute_reply": "2022-09-20T22:09:10.523339Z"
    },
    "papermill": {
     "duration": 0.022762,
     "end_time": "2022-09-20T22:09:10.526793",
     "exception": false,
     "start_time": "2022-09-20T22:09:10.504031",
     "status": "completed"
    },
    "tags": []
   },
   "outputs": [
    {
     "data": {
      "text/plain": [
       "Index(['age', 'fnlwgt', 'education.num', 'capital.gain', 'capital.loss',\n",
       "       'hours.per.week', 'workclass_?', 'workclass_Federal-gov',\n",
       "       'workclass_Local-gov', 'workclass_Never-worked', 'workclass_Private',\n",
       "       'workclass_Self-emp-inc', 'workclass_Self-emp-not-inc',\n",
       "       'workclass_State-gov', 'workclass_Without-pay',\n",
       "       'marital.status_Divorced', 'marital.status_Married-AF-spouse',\n",
       "       'marital.status_Married-civ-spouse',\n",
       "       'marital.status_Married-spouse-absent', 'marital.status_Never-married',\n",
       "       'marital.status_Separated', 'marital.status_Widowed', 'occupation_?',\n",
       "       'occupation_Adm-clerical', 'occupation_Armed-Forces',\n",
       "       'occupation_Craft-repair', 'occupation_Exec-managerial',\n",
       "       'occupation_Farming-fishing', 'occupation_Handlers-cleaners',\n",
       "       'occupation_Machine-op-inspct', 'occupation_Other-service',\n",
       "       'occupation_Priv-house-serv', 'occupation_Prof-specialty',\n",
       "       'occupation_Protective-serv', 'occupation_Sales',\n",
       "       'occupation_Tech-support', 'occupation_Transport-moving',\n",
       "       'relationship_Husband', 'relationship_Not-in-family',\n",
       "       'relationship_Other-relative', 'relationship_Own-child',\n",
       "       'relationship_Unmarried', 'relationship_Wife',\n",
       "       'race_Amer-Indian-Eskimo', 'race_Asian-Pac-Islander', 'race_Black',\n",
       "       'race_Other', 'race_White', 'sex_Female', 'sex_Male',\n",
       "       'native.country_?', 'native.country_Cambodia', 'native.country_Canada',\n",
       "       'native.country_China', 'native.country_Columbia',\n",
       "       'native.country_Cuba', 'native.country_Dominican-Republic',\n",
       "       'native.country_Ecuador', 'native.country_El-Salvador',\n",
       "       'native.country_England', 'native.country_France',\n",
       "       'native.country_Germany', 'native.country_Greece',\n",
       "       'native.country_Guatemala', 'native.country_Haiti',\n",
       "       'native.country_Holand-Netherlands', 'native.country_Honduras',\n",
       "       'native.country_Hong', 'native.country_Hungary', 'native.country_India',\n",
       "       'native.country_Iran', 'native.country_Ireland', 'native.country_Italy',\n",
       "       'native.country_Jamaica', 'native.country_Japan', 'native.country_Laos',\n",
       "       'native.country_Mexico', 'native.country_Nicaragua',\n",
       "       'native.country_Outlying-US(Guam-USVI-etc)', 'native.country_Peru',\n",
       "       'native.country_Philippines', 'native.country_Poland',\n",
       "       'native.country_Portugal', 'native.country_Puerto-Rico',\n",
       "       'native.country_Scotland', 'native.country_South',\n",
       "       'native.country_Taiwan', 'native.country_Thailand',\n",
       "       'native.country_Trinadad&Tobago', 'native.country_United-States',\n",
       "       'native.country_Vietnam', 'native.country_Yugoslavia', 'income_<=50K',\n",
       "       'income_>50K'],\n",
       "      dtype='object')"
      ]
     },
     "execution_count": 7,
     "metadata": {},
     "output_type": "execute_result"
    }
   ],
   "source": [
    "df.columns"
   ]
  },
  {
   "cell_type": "markdown",
   "id": "b08dbe15",
   "metadata": {
    "papermill": {
     "duration": 0.010557,
     "end_time": "2022-09-20T22:09:10.548460",
     "exception": false,
     "start_time": "2022-09-20T22:09:10.537903",
     "status": "completed"
    },
    "tags": []
   },
   "source": [
    "To specify the target variable, let's delete the income < 50K column with the `drop` method."
   ]
  },
  {
   "cell_type": "code",
   "execution_count": 8,
   "id": "1e655e6d",
   "metadata": {
    "execution": {
     "iopub.execute_input": "2022-09-20T22:09:10.572751Z",
     "iopub.status.busy": "2022-09-20T22:09:10.571542Z",
     "iopub.status.idle": "2022-09-20T22:09:10.592468Z",
     "shell.execute_reply": "2022-09-20T22:09:10.591058Z"
    },
    "papermill": {
     "duration": 0.035932,
     "end_time": "2022-09-20T22:09:10.595246",
     "exception": false,
     "start_time": "2022-09-20T22:09:10.559314",
     "status": "completed"
    },
    "tags": []
   },
   "outputs": [],
   "source": [
    "df = df.drop(\"income_<=50K\", axis = 1)"
   ]
  },
  {
   "cell_type": "markdown",
   "id": "2aa8c62d",
   "metadata": {
    "papermill": {
     "duration": 0.010551,
     "end_time": "2022-09-20T22:09:10.617011",
     "exception": false,
     "start_time": "2022-09-20T22:09:10.606460",
     "status": "completed"
    },
    "tags": []
   },
   "source": [
    "Let's create the target and feature variables with the `iloc` method."
   ]
  },
  {
   "cell_type": "code",
   "execution_count": 9,
   "id": "24d4a24e",
   "metadata": {
    "execution": {
     "iopub.execute_input": "2022-09-20T22:09:10.640973Z",
     "iopub.status.busy": "2022-09-20T22:09:10.640584Z",
     "iopub.status.idle": "2022-09-20T22:09:10.651279Z",
     "shell.execute_reply": "2022-09-20T22:09:10.650171Z"
    },
    "papermill": {
     "duration": 0.025723,
     "end_time": "2022-09-20T22:09:10.653884",
     "exception": false,
     "start_time": "2022-09-20T22:09:10.628161",
     "status": "completed"
    },
    "tags": []
   },
   "outputs": [],
   "source": [
    "X = df.iloc[:,:-1]\n",
    "y = df.iloc[:,-1]"
   ]
  },
  {
   "cell_type": "markdown",
   "id": "26d80bf8",
   "metadata": {
    "papermill": {
     "duration": 0.011302,
     "end_time": "2022-09-20T22:09:10.676423",
     "exception": false,
     "start_time": "2022-09-20T22:09:10.665121",
     "status": "completed"
    },
    "tags": []
   },
   "source": [
    "Let's split the dataset into the training, validation, and test set with the `train_test_split` method."
   ]
  },
  {
   "cell_type": "code",
   "execution_count": 10,
   "id": "ed92a219",
   "metadata": {
    "execution": {
     "iopub.execute_input": "2022-09-20T22:09:10.700651Z",
     "iopub.status.busy": "2022-09-20T22:09:10.700200Z",
     "iopub.status.idle": "2022-09-20T22:09:11.912334Z",
     "shell.execute_reply": "2022-09-20T22:09:11.911139Z"
    },
    "papermill": {
     "duration": 1.227798,
     "end_time": "2022-09-20T22:09:11.915334",
     "exception": false,
     "start_time": "2022-09-20T22:09:10.687536",
     "status": "completed"
    },
    "tags": []
   },
   "outputs": [],
   "source": [
    "from sklearn.model_selection import train_test_split\n",
    "X_train_full, X_test, y_train_full, y_test=train_test_split(X,y,random_state=0)"
   ]
  },
  {
   "cell_type": "markdown",
   "id": "4edb912e",
   "metadata": {
    "papermill": {
     "duration": 0.010547,
     "end_time": "2022-09-20T22:09:11.937215",
     "exception": false,
     "start_time": "2022-09-20T22:09:11.926668",
     "status": "completed"
    },
    "tags": []
   },
   "source": [
    "To evaluate the model, let me create the validation set with the `train_test_split` method."
   ]
  },
  {
   "cell_type": "code",
   "execution_count": 11,
   "id": "6e2155c2",
   "metadata": {
    "execution": {
     "iopub.execute_input": "2022-09-20T22:09:11.961192Z",
     "iopub.status.busy": "2022-09-20T22:09:11.960335Z",
     "iopub.status.idle": "2022-09-20T22:09:11.986811Z",
     "shell.execute_reply": "2022-09-20T22:09:11.985536Z"
    },
    "papermill": {
     "duration": 0.041569,
     "end_time": "2022-09-20T22:09:11.989652",
     "exception": false,
     "start_time": "2022-09-20T22:09:11.948083",
     "status": "completed"
    },
    "tags": []
   },
   "outputs": [],
   "source": [
    "X_train, X_val, y_train, y_val=train_test_split(X_train_full, y_train_full, random_state=0)"
   ]
  },
  {
   "cell_type": "markdown",
   "id": "2318007b",
   "metadata": {
    "papermill": {
     "duration": 0.010615,
     "end_time": "2022-09-20T22:09:12.011402",
     "exception": false,
     "start_time": "2022-09-20T22:09:12.000787",
     "status": "completed"
    },
    "tags": []
   },
   "source": [
    "<a id='xgboost_model'></a>\n",
    "# <p style=\"background-color:coral;font-family:newtimeroman;font-size:150%;color:white;text-align:center;border-radius:20px 20px;\"><b>The XGBoost Model</b></p>\n",
    "XGBoost provides a parallel tree boosting that solve many data science problems in a fast and accurate way. Let's build an XGBoost classifier model with a n_estimators value of 500, the learning rate value of 0.05 and the early_stopping_rounds value of 5. Keep in mind that a small learning rate and a larger number of estimators will yield more accurate XGBoost models."
   ]
  },
  {
   "cell_type": "code",
   "execution_count": 12,
   "id": "fe8ba7d5",
   "metadata": {
    "execution": {
     "iopub.execute_input": "2022-09-20T22:09:12.035474Z",
     "iopub.status.busy": "2022-09-20T22:09:12.035030Z",
     "iopub.status.idle": "2022-09-20T22:09:12.157027Z",
     "shell.execute_reply": "2022-09-20T22:09:12.156019Z"
    },
    "papermill": {
     "duration": 0.137177,
     "end_time": "2022-09-20T22:09:12.159724",
     "exception": false,
     "start_time": "2022-09-20T22:09:12.022547",
     "status": "completed"
    },
    "tags": []
   },
   "outputs": [],
   "source": [
    "from xgboost import XGBClassifier\n",
    "xgb_clf = XGBClassifier(n_estimators = 500,\n",
    "                        learning_rate = 0.05,\n",
    "                        use_label_encoder = False,\n",
    "                        eval_metric = \"logloss\",\n",
    "                        early_stopping_rounds = 5,\n",
    "                        n_jobs = -1)"
   ]
  },
  {
   "cell_type": "markdown",
   "id": "500178e2",
   "metadata": {
    "papermill": {
     "duration": 0.01064,
     "end_time": "2022-09-20T22:09:12.181724",
     "exception": false,
     "start_time": "2022-09-20T22:09:12.171084",
     "status": "completed"
    },
    "tags": []
   },
   "source": [
    "Let me train the model with the `fit` model."
   ]
  },
  {
   "cell_type": "code",
   "execution_count": 13,
   "id": "107137cd",
   "metadata": {
    "execution": {
     "iopub.execute_input": "2022-09-20T22:09:12.205607Z",
     "iopub.status.busy": "2022-09-20T22:09:12.205204Z",
     "iopub.status.idle": "2022-09-20T22:09:22.028879Z",
     "shell.execute_reply": "2022-09-20T22:09:22.027883Z"
    },
    "papermill": {
     "duration": 9.83887,
     "end_time": "2022-09-20T22:09:22.031553",
     "exception": false,
     "start_time": "2022-09-20T22:09:12.192683",
     "status": "completed"
    },
    "tags": []
   },
   "outputs": [
    {
     "data": {
      "text/plain": [
       "XGBClassifier(base_score=0.5, booster='gbtree', callbacks=None,\n",
       "              colsample_bylevel=1, colsample_bynode=1, colsample_bytree=1,\n",
       "              early_stopping_rounds=5, enable_categorical=False,\n",
       "              eval_metric='logloss', gamma=0, gpu_id=-1,\n",
       "              grow_policy='depthwise', importance_type=None,\n",
       "              interaction_constraints='', learning_rate=0.05, max_bin=256,\n",
       "              max_cat_to_onehot=4, max_delta_step=0, max_depth=6, max_leaves=0,\n",
       "              min_child_weight=1, missing=nan, monotone_constraints='()',\n",
       "              n_estimators=500, n_jobs=-1, num_parallel_tree=1,\n",
       "              predictor='auto', random_state=0, reg_alpha=0, reg_lambda=1, ...)"
      ]
     },
     "execution_count": 13,
     "metadata": {},
     "output_type": "execute_result"
    }
   ],
   "source": [
    "xgb_clf.fit(X_train, y_train,                    \n",
    "            eval_set = [(X_val,y_val)],\n",
    "            verbose = False)"
   ]
  },
  {
   "cell_type": "markdown",
   "id": "6e0211af",
   "metadata": {
    "papermill": {
     "duration": 0.010711,
     "end_time": "2022-09-20T22:09:22.053633",
     "exception": false,
     "start_time": "2022-09-20T22:09:22.042922",
     "status": "completed"
    },
    "tags": []
   },
   "source": [
    "Let's take a look at the performance of the model with the accuracy metric."
   ]
  },
  {
   "cell_type": "code",
   "execution_count": 14,
   "id": "bbb463b0",
   "metadata": {
    "execution": {
     "iopub.execute_input": "2022-09-20T22:09:22.077924Z",
     "iopub.status.busy": "2022-09-20T22:09:22.077312Z",
     "iopub.status.idle": "2022-09-20T22:09:22.081358Z",
     "shell.execute_reply": "2022-09-20T22:09:22.080495Z"
    },
    "papermill": {
     "duration": 0.018701,
     "end_time": "2022-09-20T22:09:22.083454",
     "exception": false,
     "start_time": "2022-09-20T22:09:22.064753",
     "status": "completed"
    },
    "tags": []
   },
   "outputs": [],
   "source": [
    "from sklearn.metrics import accuracy_score\n",
    "import numpy as np"
   ]
  },
  {
   "cell_type": "markdown",
   "id": "4c7e3eb1",
   "metadata": {
    "papermill": {
     "duration": 0.010749,
     "end_time": "2022-09-20T22:09:22.105647",
     "exception": false,
     "start_time": "2022-09-20T22:09:22.094898",
     "status": "completed"
    },
    "tags": []
   },
   "source": [
    "First, I'm going to look at the model accucary on the test set."
   ]
  },
  {
   "cell_type": "code",
   "execution_count": 15,
   "id": "8cb2c824",
   "metadata": {
    "execution": {
     "iopub.execute_input": "2022-09-20T22:09:22.129869Z",
     "iopub.status.busy": "2022-09-20T22:09:22.129231Z",
     "iopub.status.idle": "2022-09-20T22:09:22.166484Z",
     "shell.execute_reply": "2022-09-20T22:09:22.165473Z"
    },
    "papermill": {
     "duration": 0.05275,
     "end_time": "2022-09-20T22:09:22.169455",
     "exception": false,
     "start_time": "2022-09-20T22:09:22.116705",
     "status": "completed"
    },
    "tags": []
   },
   "outputs": [
    {
     "name": "stdout",
     "output_type": "stream",
     "text": [
      "Test score: 0.87\n"
     ]
    }
   ],
   "source": [
    "pred_test = xgb_clf.predict(X_test)\n",
    "test_score = accuracy_score(pred_test, y_test)\n",
    "print(\"Test score:\", np.round(test_score,2))"
   ]
  },
  {
   "cell_type": "markdown",
   "id": "41be7bce",
   "metadata": {
    "papermill": {
     "duration": 0.010691,
     "end_time": "2022-09-20T22:09:22.194023",
     "exception": false,
     "start_time": "2022-09-20T22:09:22.183332",
     "status": "completed"
    },
    "tags": []
   },
   "source": [
    "Next, let's look at the model accucary on train set."
   ]
  },
  {
   "cell_type": "code",
   "execution_count": 16,
   "id": "ae916591",
   "metadata": {
    "execution": {
     "iopub.execute_input": "2022-09-20T22:09:22.217993Z",
     "iopub.status.busy": "2022-09-20T22:09:22.217589Z",
     "iopub.status.idle": "2022-09-20T22:09:22.299922Z",
     "shell.execute_reply": "2022-09-20T22:09:22.298841Z"
    },
    "papermill": {
     "duration": 0.098287,
     "end_time": "2022-09-20T22:09:22.303447",
     "exception": false,
     "start_time": "2022-09-20T22:09:22.205160",
     "status": "completed"
    },
    "tags": []
   },
   "outputs": [
    {
     "name": "stdout",
     "output_type": "stream",
     "text": [
      "Train score: 0.88\n"
     ]
    }
   ],
   "source": [
    "pred_train = xgb_clf.predict(X_train_full)\n",
    "train_score = accuracy_score(pred_train, y_train_full)\n",
    "print(\"Train score:\", np.round(train_score,2))"
   ]
  },
  {
   "cell_type": "markdown",
   "id": "71601908",
   "metadata": {
    "papermill": {
     "duration": 0.010956,
     "end_time": "2022-09-20T22:09:22.328570",
     "exception": false,
     "start_time": "2022-09-20T22:09:22.317614",
     "status": "completed"
    },
    "tags": []
   },
   "source": [
    "<a id='regression'></a>\n",
    "# <p style=\"background-color:coral;font-family:newtimeroman;font-size:150%;color:white;text-align:center;border-radius:20px 20px;\"><b>Logistic Regression vs XGBoost</b></p>"
   ]
  },
  {
   "cell_type": "markdown",
   "id": "782263a6",
   "metadata": {
    "papermill": {
     "duration": 0.010963,
     "end_time": "2022-09-20T22:09:22.350871",
     "exception": false,
     "start_time": "2022-09-20T22:09:22.339908",
     "status": "completed"
    },
    "tags": []
   },
   "source": [
    "Logistic regression is one of the most used classification algorithms. Let's compare the XGBoost model with the logistic regression model. To build a logistic regression model, I'm going to use the scikit learn library."
   ]
  },
  {
   "cell_type": "code",
   "execution_count": 17,
   "id": "83dbd778",
   "metadata": {
    "execution": {
     "iopub.execute_input": "2022-09-20T22:09:22.375447Z",
     "iopub.status.busy": "2022-09-20T22:09:22.374953Z",
     "iopub.status.idle": "2022-09-20T22:09:22.462172Z",
     "shell.execute_reply": "2022-09-20T22:09:22.460738Z"
    },
    "papermill": {
     "duration": 0.102847,
     "end_time": "2022-09-20T22:09:22.465063",
     "exception": false,
     "start_time": "2022-09-20T22:09:22.362216",
     "status": "completed"
    },
    "tags": []
   },
   "outputs": [],
   "source": [
    "from sklearn.linear_model import LogisticRegression\n",
    "lr = LogisticRegression(max_iter=1000)"
   ]
  },
  {
   "cell_type": "markdown",
   "id": "52ab3e12",
   "metadata": {
    "papermill": {
     "duration": 0.010842,
     "end_time": "2022-09-20T22:09:22.487238",
     "exception": false,
     "start_time": "2022-09-20T22:09:22.476396",
     "status": "completed"
    },
    "tags": []
   },
   "source": [
    "Let's look at the cross validation score of the model with the `cross_val_score` method."
   ]
  },
  {
   "cell_type": "code",
   "execution_count": 18,
   "id": "5b91078a",
   "metadata": {
    "execution": {
     "iopub.execute_input": "2022-09-20T22:09:22.511694Z",
     "iopub.status.busy": "2022-09-20T22:09:22.511238Z",
     "iopub.status.idle": "2022-09-20T22:09:28.835017Z",
     "shell.execute_reply": "2022-09-20T22:09:28.831213Z"
    },
    "papermill": {
     "duration": 6.341002,
     "end_time": "2022-09-20T22:09:28.839531",
     "exception": false,
     "start_time": "2022-09-20T22:09:22.498529",
     "status": "completed"
    },
    "tags": []
   },
   "outputs": [
    {
     "name": "stdout",
     "output_type": "stream",
     "text": [
      "Logistic regression score: 0.77\n"
     ]
    }
   ],
   "source": [
    "from sklearn.model_selection import cross_val_score\n",
    "scores = cross_val_score(lr, X, y, cv = 10)\n",
    "print(\"Logistic regression score:\", np.round(scores.mean(),2))"
   ]
  },
  {
   "cell_type": "markdown",
   "id": "8bd23fd6",
   "metadata": {
    "papermill": {
     "duration": 0.029257,
     "end_time": "2022-09-20T22:09:28.899575",
     "exception": false,
     "start_time": "2022-09-20T22:09:28.870318",
     "status": "completed"
    },
    "tags": []
   },
   "source": [
    "As you can see, the score of the logistic regression model is 0.77."
   ]
  },
  {
   "cell_type": "markdown",
   "id": "d17634e1",
   "metadata": {
    "papermill": {
     "duration": 0.024153,
     "end_time": "2022-09-20T22:09:28.953274",
     "exception": false,
     "start_time": "2022-09-20T22:09:28.929121",
     "status": "completed"
    },
    "tags": []
   },
   "source": [
    "<a id='conclusion'></a>\n",
    "# <p style=\"background-color:coral;font-family:newtimeroman;font-size:150%;color:white;text-align:center;border-radius:20px 20px;\"><b>Conclusion</b></p>"
   ]
  },
  {
   "cell_type": "markdown",
   "id": "e987ce96",
   "metadata": {
    "papermill": {
     "duration": 0.012129,
     "end_time": "2022-09-20T22:09:28.977213",
     "exception": false,
     "start_time": "2022-09-20T22:09:28.965084",
     "status": "completed"
    },
    "tags": []
   },
   "source": [
    "XGBoost is used implement gradient boosting. It's an optimized distributed gradient boosting library designed to be highly efficient, flexible and portable. As a result, it turned out that the performance of the XGBoost model is better than the performance of the logistic regression model for the adult census income dataset."
   ]
  },
  {
   "cell_type": "markdown",
   "id": "8832372c",
   "metadata": {
    "papermill": {
     "duration": 0.011274,
     "end_time": "2022-09-20T22:09:28.999990",
     "exception": false,
     "start_time": "2022-09-20T22:09:28.988716",
     "status": "completed"
    },
    "tags": []
   },
   "source": [
    "### Thanks for reading 👍\n",
    "\n",
    "### Don't forget to follow us on [YouTube](http://youtube.com/tirendazacademy) | [Medium](http://tirendazacademy.medium.com) | [Twitter](http://twitter.com/tirendazacademy) | [GitHub](http://github.com/tirendazacademy) | [Linkedin](https://www.linkedin.com/in/tirendaz-academy) | [Kaggle](https://www.kaggle.com/tirendazacademy) 😎"
   ]
  },
  {
   "cell_type": "code",
   "execution_count": 19,
   "id": "4cf87405",
   "metadata": {
    "execution": {
     "iopub.execute_input": "2022-09-20T22:09:29.025869Z",
     "iopub.status.busy": "2022-09-20T22:09:29.025412Z",
     "iopub.status.idle": "2022-09-20T22:09:34.333441Z",
     "shell.execute_reply": "2022-09-20T22:09:34.332318Z"
    },
    "papermill": {
     "duration": 5.324073,
     "end_time": "2022-09-20T22:09:34.336408",
     "exception": false,
     "start_time": "2022-09-20T22:09:29.012335",
     "status": "completed"
    },
    "tags": []
   },
   "outputs": [
    {
     "name": "stdout",
     "output_type": "stream",
     "text": [
      "Cloning into 'cogs'...\r\n",
      "remote: Enumerating objects: 37, done.\u001b[K\r\n",
      "remote: Counting objects: 100% (37/37), done.\u001b[K\r\n",
      "remote: Compressing objects: 100% (33/33), done.\u001b[K\r\n",
      "remote: Total 37 (delta 12), reused 20 (delta 3), pack-reused 0\u001b[K\r\n",
      "Unpacking objects: 100% (37/37), 391.26 KiB | 1.97 MiB/s, done.\r\n",
      "[Errno 2] No such file or directory: '/content/cogs'\n",
      "/kaggle/working\n",
      "\u001b[31mERROR: Directory '.' is not installable. Neither 'setup.py' nor 'pyproject.toml' found.\u001b[0m\u001b[31m\r\n",
      "\u001b[0m"
     ]
    }
   ],
   "source": [
    "# clone repo, access, and install repo\n",
    "! git clone https://github.com/marcovirgolin/cogs\n",
    "%cd /content/cogs\n",
    "! pip install ."
   ]
  },
  {
   "cell_type": "code",
   "execution_count": null,
   "id": "e960e89f",
   "metadata": {
    "papermill": {
     "duration": 0.012928,
     "end_time": "2022-09-20T22:09:34.363067",
     "exception": false,
     "start_time": "2022-09-20T22:09:34.350139",
     "status": "completed"
    },
    "tags": []
   },
   "outputs": [],
   "source": []
  },
  {
   "cell_type": "code",
   "execution_count": null,
   "id": "5ed1f715",
   "metadata": {
    "papermill": {
     "duration": 0.012172,
     "end_time": "2022-09-20T22:09:34.388104",
     "exception": false,
     "start_time": "2022-09-20T22:09:34.375932",
     "status": "completed"
    },
    "tags": []
   },
   "outputs": [],
   "source": []
  },
  {
   "cell_type": "code",
   "execution_count": null,
   "id": "500adba2",
   "metadata": {
    "papermill": {
     "duration": 0.01214,
     "end_time": "2022-09-20T22:09:34.413000",
     "exception": false,
     "start_time": "2022-09-20T22:09:34.400860",
     "status": "completed"
    },
    "tags": []
   },
   "outputs": [],
   "source": []
  },
  {
   "cell_type": "code",
   "execution_count": null,
   "id": "28c4e060",
   "metadata": {
    "papermill": {
     "duration": 0.012623,
     "end_time": "2022-09-20T22:09:34.438060",
     "exception": false,
     "start_time": "2022-09-20T22:09:34.425437",
     "status": "completed"
    },
    "tags": []
   },
   "outputs": [],
   "source": []
  }
 ],
 "metadata": {
  "kernelspec": {
   "display_name": "Python 3",
   "language": "python",
   "name": "python3"
  },
  "language_info": {
   "codemirror_mode": {
    "name": "ipython",
    "version": 3
   },
   "file_extension": ".py",
   "mimetype": "text/x-python",
   "name": "python",
   "nbconvert_exporter": "python",
   "pygments_lexer": "ipython3",
   "version": "3.7.12"
  },
  "papermill": {
   "default_parameters": {},
   "duration": 35.81589,
   "end_time": "2022-09-20T22:09:35.374622",
   "environment_variables": {},
   "exception": null,
   "input_path": "__notebook__.ipynb",
   "output_path": "__notebook__.ipynb",
   "parameters": {},
   "start_time": "2022-09-20T22:08:59.558732",
   "version": "2.3.4"
  }
 },
 "nbformat": 4,
 "nbformat_minor": 5
}
